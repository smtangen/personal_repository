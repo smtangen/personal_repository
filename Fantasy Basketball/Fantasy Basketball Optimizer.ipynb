{
 "cells": [
  {
   "cell_type": "code",
   "execution_count": 2,
   "metadata": {
    "scrolled": true
   },
   "outputs": [],
   "source": [
    "from pydfs_lineup_optimizer import get_optimizer, Site, Sport"
   ]
  },
  {
   "cell_type": "code",
   "execution_count": 3,
   "metadata": {},
   "outputs": [],
   "source": [
    "optimizer = get_optimizer(Site.FANDUEL, Sport.BASKETBALL)"
   ]
  },
  {
   "cell_type": "markdown",
   "metadata": {},
   "source": [
    "### Load from csv file\n",
    "\n",
    "The program to build projections will write a csv file that will be loaded here. File to be loaded will be in same format as a FanDuel csv file"
   ]
  },
  {
   "cell_type": "code",
   "execution_count": 15,
   "metadata": {},
   "outputs": [],
   "source": [
    "optimizer.load_players_from_CSV(\"FanDuel-NBA-2018-10-01-28679-players-list.csv\")"
   ]
  },
  {
   "cell_type": "markdown",
   "metadata": {},
   "source": [
    "#### Lock or Unlock players from lineup\n",
    "\n",
    "player = optimizer.get_player_by_name('Rodney Hood') # find player with specified name in your optimizer\n",
    "\n",
    "optimizer.add_player_to_lineup(player) # lock this player in lineup\n",
    "\n",
    "optimizer.remove_player_from_lineup(player) # unlock"
   ]
  },
  {
   "cell_type": "markdown",
   "metadata": {},
   "source": [
    "#### Exclude or restore player to dataset\n",
    "\n",
    "optimizer.remove_player(player)\n",
    "\n",
    "optimizer.restore_player(player)"
   ]
  },
  {
   "cell_type": "markdown",
   "metadata": {},
   "source": [
    "#### Other Advanced Usage Examples\n",
    "\n",
    "nets_centers = filter(lambda p: p.team == 'Nets' and 'C' in p.positions, optimizer.players)\n",
    "\n",
    "for player in nets_centers:\n",
    "\n",
    "    optimizer.remove_player(player)  # Remove all Nets centers from optimizer\n",
    "    \n",
    "harden = optimizer.get_player_by_name('Harden')\n",
    "\n",
    "westbrook = optimizer.get_player_by_name('Westbrook')  # Get Harden and Westbrook\n",
    "\n",
    "westbrook.max_exposure = 0.4  # Set exposures for Westbrook\n",
    "\n",
    "optimizer.add_player_to_lineup(harden)\n",
    "\n",
    "optimizer.add_player_to_lineup(westbrook)  # Lock Harden and Westbrook\n",
    "\n",
    "optimizer.set_max_repeating_players(5)"
   ]
  },
  {
   "cell_type": "markdown",
   "metadata": {},
   "source": [
    "#### optimizer.optimize arguments\n",
    "max_exposure=(0,1) # any player can only be included in x% of lineups; can do this by player as well\n",
    "\n",
    "randomness=True/False # True: optimizer generate lineups without ordering by max points projection\n",
    "\n",
    "optimizer.set_deviation(0.2, 0.4) # for making more random lineups"
   ]
  },
  {
   "cell_type": "markdown",
   "metadata": {},
   "source": [
    "## Potential Lineups"
   ]
  },
  {
   "cell_type": "code",
   "execution_count": 12,
   "metadata": {},
   "outputs": [
    {
     "name": "stdout",
     "output_type": "stream",
     "text": [
      " 1. PG    Trey Burke                    PG    NY             23.394  4100.0$   \n",
      " 2. PG    Bradley Beal                  PG    WAS            36.748  8000.0$   \n",
      " 3. SG    Austin Rivers                 SG    WAS            26.525  4300.0$   \n",
      " 4. SG    E'Twaun Moore                 SG    NO             21.416  3600.0$   \n",
      " 5. SF    Otto Porter Jr.               SF    WAS            30.596  6700.0$   \n",
      " 6. SF    Tim Hardaway Jr.              SF    NY             28.444  6300.0$   \n",
      " 7. PF    Anthony Davis                 PF    NO             54.596  12000.0$  \n",
      " 8. PF    Aaron Gordon                  PF    ORL            34.128  7300.0$   \n",
      " 9. C     Nikola Vucevic                C     ORL            36.851  7700.0$   \n",
      "\n",
      "Fantasy Points 292.698\n",
      "Salary 60000.0\n",
      "[Trey Burke PG (NY), Bradley Beal PG (WAS), Austin Rivers SG (WAS), E'Twaun Moore SG (NO), Otto Porter Jr. SF (WAS), Tim Hardaway Jr. SF (NY), Anthony Davis PF (NO), Aaron Gordon PF (ORL), Nikola Vucevic C (ORL)]\n",
      "292.698\n",
      "60000.0\n",
      " 1. PG    Trey Burke                    PG    NY             23.394  4100.0$   \n",
      " 2. PG    Bradley Beal                  PG    WAS            36.748  8000.0$   \n",
      " 3. SG    Austin Rivers                 SG    WAS            26.525  4300.0$   \n",
      " 4. SG    E'Twaun Moore                 SG    NO             21.416  3600.0$   \n",
      " 5. SF    Otto Porter Jr.               SF    WAS            30.596  6700.0$   \n",
      " 6. SF    Robert Covington              SF    PHI            28.27   6300.0$   \n",
      " 7. PF    Anthony Davis                 PF    NO             54.596  12000.0$  \n",
      " 8. PF    Aaron Gordon                  PF    ORL            34.128  7300.0$   \n",
      " 9. C     Nikola Vucevic                C     ORL            36.851  7700.0$   \n",
      "\n",
      "Fantasy Points 292.524\n",
      "Salary 60000.0\n",
      "[Trey Burke PG (NY), Bradley Beal PG (WAS), Austin Rivers SG (WAS), E'Twaun Moore SG (NO), Otto Porter Jr. SF (WAS), Robert Covington SF (PHI), Anthony Davis PF (NO), Aaron Gordon PF (ORL), Nikola Vucevic C (ORL)]\n",
      "292.524\n",
      "60000.0\n",
      " 1. PG    Trey Burke                    PG    NY             23.394  4100.0$   \n",
      " 2. PG    Bradley Beal                  PG    WAS            36.748  8000.0$   \n",
      " 3. SG    Austin Rivers                 SG    WAS            26.525  4300.0$   \n",
      " 4. SG    Jrue Holiday                  SG    NO             37.667  8300.0$   \n",
      " 5. SF    TJ Warren                     SF    PHO            31.263  7100.0$   \n",
      " 6. SF    Tomas Satoransky              SF    WAS            18.485  3500.0$   \n",
      " 7. PF    Anthony Davis                 PF    NO             54.596  12000.0$  \n",
      " 8. PF    Zach Randolph                 PF    SAC            26.507  4800.0$   \n",
      " 9. C     Nikola Vucevic                C     ORL            36.851  7700.0$   \n",
      "\n",
      "Fantasy Points 292.036\n",
      "Salary 59800.0\n",
      "[Trey Burke PG (NY), Bradley Beal PG (WAS), Austin Rivers SG (WAS), Jrue Holiday SG (NO), TJ Warren SF (PHO), Tomas Satoransky SF (WAS), Anthony Davis PF (NO), Zach Randolph PF (SAC), Nikola Vucevic C (ORL)]\n",
      "292.036\n",
      "59800.0\n",
      " 1. PG    Trey Burke                    PG    NY             23.394  4100.0$   \n",
      " 2. PG    Bradley Beal                  PG    WAS            36.748  8000.0$   \n",
      " 3. SG    Austin Rivers                 SG    WAS            26.525  4300.0$   \n",
      " 4. SG    Jrue Holiday                  SG    NO             37.667  8300.0$   \n",
      " 5. SF    TJ Warren                     SF    PHO            31.263  7100.0$   \n",
      " 6. SF    Jeff Green                    SF    WAS            18.458  3600.0$   \n",
      " 7. PF    Anthony Davis                 PF    NO             54.596  12000.0$  \n",
      " 8. PF    Zach Randolph                 PF    SAC            26.507  4800.0$   \n",
      " 9. C     Nikola Vucevic                C     ORL            36.851  7700.0$   \n",
      "\n",
      "Fantasy Points 292.008\n",
      "Salary 59900.0\n",
      "[Trey Burke PG (NY), Bradley Beal PG (WAS), Austin Rivers SG (WAS), Jrue Holiday SG (NO), TJ Warren SF (PHO), Jeff Green SF (WAS), Anthony Davis PF (NO), Zach Randolph PF (SAC), Nikola Vucevic C (ORL)]\n",
      "292.008\n",
      "59900.0\n",
      " 1. PG    Trey Burke                    PG    NY             23.394  4100.0$   \n",
      " 2. PG    Bradley Beal                  PG    WAS            36.748  8000.0$   \n",
      " 3. SG    Austin Rivers                 SG    WAS            26.525  4300.0$   \n",
      " 4. SG    E'Twaun Moore                 SG    NO             21.416  3600.0$   \n",
      " 5. SF    Otto Porter Jr.               SF    WAS            30.596  6700.0$   \n",
      " 6. SF    Evan Fournier                 SF    ORL            27.532  6200.0$   \n",
      " 7. PF    Anthony Davis                 PF    NO             54.596  12000.0$  \n",
      " 8. PF    Aaron Gordon                  PF    ORL            34.128  7300.0$   \n",
      " 9. C     Nikola Vucevic                C     ORL            36.851  7700.0$   \n",
      "\n",
      "Fantasy Points 291.785\n",
      "Salary 59900.0\n",
      "[Trey Burke PG (NY), Bradley Beal PG (WAS), Austin Rivers SG (WAS), E'Twaun Moore SG (NO), Otto Porter Jr. SF (WAS), Evan Fournier SF (ORL), Anthony Davis PF (NO), Aaron Gordon PF (ORL), Nikola Vucevic C (ORL)]\n",
      "291.785\n",
      "59900.0\n"
     ]
    }
   ],
   "source": [
    "k = 5\n",
    "exposure = k/k\n",
    "random = False\n",
    "\n",
    "for lineup in optimizer.optimize(n=k, max_exposure = exposure, randomness=random):\n",
    "    print(lineup)\n",
    "    print(lineup.players)  # list of players\n",
    "    print(lineup.fantasy_points_projection)\n",
    "    print(lineup.salary_costs) "
   ]
  }
 ],
 "metadata": {
  "kernelspec": {
   "display_name": "Python 3",
   "language": "python",
   "name": "python3"
  },
  "language_info": {
   "codemirror_mode": {
    "name": "ipython",
    "version": 3
   },
   "file_extension": ".py",
   "mimetype": "text/x-python",
   "name": "python",
   "nbconvert_exporter": "python",
   "pygments_lexer": "ipython3",
   "version": "3.6.4"
  }
 },
 "nbformat": 4,
 "nbformat_minor": 2
}
